{
  "nbformat": 4,
  "nbformat_minor": 0,
  "metadata": {
    "colab": {
      "provenance": []
    },
    "kernelspec": {
      "name": "python3",
      "display_name": "Python 3"
    },
    "language_info": {
      "name": "python"
    }
  },
  "cells": [
    {
      "cell_type": "markdown",
      "source": [
        "DATA PREPROCESSING"
      ],
      "metadata": {
        "id": "EUms0jfnCZ8s"
      }
    },
    {
      "cell_type": "code",
      "source": [
        "import numpy as np\n",
        "import pandas as pd\n",
        "import tensorflow as tf"
      ],
      "metadata": {
        "id": "y3wZ63RKCdqH"
      },
      "execution_count": null,
      "outputs": []
    },
    {
      "cell_type": "code",
      "source": [
        "dataset= pd.read_csv('Titanic-Dataset.csv')\n",
        "dataset.head(),dataset.shape"
      ],
      "metadata": {
        "colab": {
          "base_uri": "https://localhost:8080/"
        },
        "id": "DxFUygz3CqEQ",
        "outputId": "a6095e60-dff5-457c-fc40-ae1fbddcaee4"
      },
      "execution_count": null,
      "outputs": [
        {
          "output_type": "execute_result",
          "data": {
            "text/plain": [
              "(   PassengerId  Survived  Pclass  \\\n",
              " 0            1         0       3   \n",
              " 1            2         1       1   \n",
              " 2            3         1       3   \n",
              " 3            4         1       1   \n",
              " 4            5         0       3   \n",
              " \n",
              "                                                 Name     Sex   Age  SibSp  \\\n",
              " 0                            Braund, Mr. Owen Harris    male  22.0      1   \n",
              " 1  Cumings, Mrs. John Bradley (Florence Briggs Th...  female  38.0      1   \n",
              " 2                             Heikkinen, Miss. Laina  female  26.0      0   \n",
              " 3       Futrelle, Mrs. Jacques Heath (Lily May Peel)  female  35.0      1   \n",
              " 4                           Allen, Mr. William Henry    male  35.0      0   \n",
              " \n",
              "    Parch            Ticket     Fare Cabin Embarked  \n",
              " 0      0         A/5 21171   7.2500   NaN        S  \n",
              " 1      0          PC 17599  71.2833   C85        C  \n",
              " 2      0  STON/O2. 3101282   7.9250   NaN        S  \n",
              " 3      0            113803  53.1000  C123        S  \n",
              " 4      0            373450   8.0500   NaN        S  ,\n",
              " (891, 12))"
            ]
          },
          "metadata": {},
          "execution_count": 2
        }
      ]
    },
    {
      "cell_type": "code",
      "source": [
        "dataset.isnull().sum()"
      ],
      "metadata": {
        "id": "xz13Hkowdmzt",
        "outputId": "67f12802-89f7-4004-b7e4-7b41102e93a6",
        "colab": {
          "base_uri": "https://localhost:8080/"
        }
      },
      "execution_count": null,
      "outputs": [
        {
          "output_type": "execute_result",
          "data": {
            "text/plain": [
              "PassengerId      0\n",
              "Survived         0\n",
              "Pclass           0\n",
              "Name             0\n",
              "Sex              0\n",
              "Age            177\n",
              "SibSp            0\n",
              "Parch            0\n",
              "Ticket           0\n",
              "Fare             0\n",
              "Cabin          687\n",
              "Embarked         2\n",
              "dtype: int64"
            ]
          },
          "metadata": {},
          "execution_count": 3
        }
      ]
    },
    {
      "cell_type": "code",
      "source": [
        "dataset.drop(dataset.columns[[3,8,10]],axis=1,inplace=True)"
      ],
      "metadata": {
        "id": "P7cqbzYlsi06"
      },
      "execution_count": null,
      "outputs": []
    },
    {
      "cell_type": "code",
      "source": [
        "dataset.head()"
      ],
      "metadata": {
        "colab": {
          "base_uri": "https://localhost:8080/",
          "height": 206
        },
        "id": "7ZjR5g9vwjIu",
        "outputId": "0ebdf4fa-3775-4afa-b433-03757f4bce34"
      },
      "execution_count": null,
      "outputs": [
        {
          "output_type": "execute_result",
          "data": {
            "text/plain": [
              "   PassengerId  Survived  Pclass     Sex   Age  SibSp  Parch     Fare Embarked\n",
              "0            1         0       3    male  22.0      1      0   7.2500        S\n",
              "1            2         1       1  female  38.0      1      0  71.2833        C\n",
              "2            3         1       3  female  26.0      0      0   7.9250        S\n",
              "3            4         1       1  female  35.0      1      0  53.1000        S\n",
              "4            5         0       3    male  35.0      0      0   8.0500        S"
            ],
            "text/html": [
              "\n",
              "  <div id=\"df-65ed0277-3b84-45ad-ab37-7b07d25722b1\" class=\"colab-df-container\">\n",
              "    <div>\n",
              "<style scoped>\n",
              "    .dataframe tbody tr th:only-of-type {\n",
              "        vertical-align: middle;\n",
              "    }\n",
              "\n",
              "    .dataframe tbody tr th {\n",
              "        vertical-align: top;\n",
              "    }\n",
              "\n",
              "    .dataframe thead th {\n",
              "        text-align: right;\n",
              "    }\n",
              "</style>\n",
              "<table border=\"1\" class=\"dataframe\">\n",
              "  <thead>\n",
              "    <tr style=\"text-align: right;\">\n",
              "      <th></th>\n",
              "      <th>PassengerId</th>\n",
              "      <th>Survived</th>\n",
              "      <th>Pclass</th>\n",
              "      <th>Sex</th>\n",
              "      <th>Age</th>\n",
              "      <th>SibSp</th>\n",
              "      <th>Parch</th>\n",
              "      <th>Fare</th>\n",
              "      <th>Embarked</th>\n",
              "    </tr>\n",
              "  </thead>\n",
              "  <tbody>\n",
              "    <tr>\n",
              "      <th>0</th>\n",
              "      <td>1</td>\n",
              "      <td>0</td>\n",
              "      <td>3</td>\n",
              "      <td>male</td>\n",
              "      <td>22.0</td>\n",
              "      <td>1</td>\n",
              "      <td>0</td>\n",
              "      <td>7.2500</td>\n",
              "      <td>S</td>\n",
              "    </tr>\n",
              "    <tr>\n",
              "      <th>1</th>\n",
              "      <td>2</td>\n",
              "      <td>1</td>\n",
              "      <td>1</td>\n",
              "      <td>female</td>\n",
              "      <td>38.0</td>\n",
              "      <td>1</td>\n",
              "      <td>0</td>\n",
              "      <td>71.2833</td>\n",
              "      <td>C</td>\n",
              "    </tr>\n",
              "    <tr>\n",
              "      <th>2</th>\n",
              "      <td>3</td>\n",
              "      <td>1</td>\n",
              "      <td>3</td>\n",
              "      <td>female</td>\n",
              "      <td>26.0</td>\n",
              "      <td>0</td>\n",
              "      <td>0</td>\n",
              "      <td>7.9250</td>\n",
              "      <td>S</td>\n",
              "    </tr>\n",
              "    <tr>\n",
              "      <th>3</th>\n",
              "      <td>4</td>\n",
              "      <td>1</td>\n",
              "      <td>1</td>\n",
              "      <td>female</td>\n",
              "      <td>35.0</td>\n",
              "      <td>1</td>\n",
              "      <td>0</td>\n",
              "      <td>53.1000</td>\n",
              "      <td>S</td>\n",
              "    </tr>\n",
              "    <tr>\n",
              "      <th>4</th>\n",
              "      <td>5</td>\n",
              "      <td>0</td>\n",
              "      <td>3</td>\n",
              "      <td>male</td>\n",
              "      <td>35.0</td>\n",
              "      <td>0</td>\n",
              "      <td>0</td>\n",
              "      <td>8.0500</td>\n",
              "      <td>S</td>\n",
              "    </tr>\n",
              "  </tbody>\n",
              "</table>\n",
              "</div>\n",
              "    <div class=\"colab-df-buttons\">\n",
              "\n",
              "  <div class=\"colab-df-container\">\n",
              "    <button class=\"colab-df-convert\" onclick=\"convertToInteractive('df-65ed0277-3b84-45ad-ab37-7b07d25722b1')\"\n",
              "            title=\"Convert this dataframe to an interactive table.\"\n",
              "            style=\"display:none;\">\n",
              "\n",
              "  <svg xmlns=\"http://www.w3.org/2000/svg\" height=\"24px\" viewBox=\"0 -960 960 960\">\n",
              "    <path d=\"M120-120v-720h720v720H120Zm60-500h600v-160H180v160Zm220 220h160v-160H400v160Zm0 220h160v-160H400v160ZM180-400h160v-160H180v160Zm440 0h160v-160H620v160ZM180-180h160v-160H180v160Zm440 0h160v-160H620v160Z\"/>\n",
              "  </svg>\n",
              "    </button>\n",
              "\n",
              "  <style>\n",
              "    .colab-df-container {\n",
              "      display:flex;\n",
              "      gap: 12px;\n",
              "    }\n",
              "\n",
              "    .colab-df-convert {\n",
              "      background-color: #E8F0FE;\n",
              "      border: none;\n",
              "      border-radius: 50%;\n",
              "      cursor: pointer;\n",
              "      display: none;\n",
              "      fill: #1967D2;\n",
              "      height: 32px;\n",
              "      padding: 0 0 0 0;\n",
              "      width: 32px;\n",
              "    }\n",
              "\n",
              "    .colab-df-convert:hover {\n",
              "      background-color: #E2EBFA;\n",
              "      box-shadow: 0px 1px 2px rgba(60, 64, 67, 0.3), 0px 1px 3px 1px rgba(60, 64, 67, 0.15);\n",
              "      fill: #174EA6;\n",
              "    }\n",
              "\n",
              "    .colab-df-buttons div {\n",
              "      margin-bottom: 4px;\n",
              "    }\n",
              "\n",
              "    [theme=dark] .colab-df-convert {\n",
              "      background-color: #3B4455;\n",
              "      fill: #D2E3FC;\n",
              "    }\n",
              "\n",
              "    [theme=dark] .colab-df-convert:hover {\n",
              "      background-color: #434B5C;\n",
              "      box-shadow: 0px 1px 3px 1px rgba(0, 0, 0, 0.15);\n",
              "      filter: drop-shadow(0px 1px 2px rgba(0, 0, 0, 0.3));\n",
              "      fill: #FFFFFF;\n",
              "    }\n",
              "  </style>\n",
              "\n",
              "    <script>\n",
              "      const buttonEl =\n",
              "        document.querySelector('#df-65ed0277-3b84-45ad-ab37-7b07d25722b1 button.colab-df-convert');\n",
              "      buttonEl.style.display =\n",
              "        google.colab.kernel.accessAllowed ? 'block' : 'none';\n",
              "\n",
              "      async function convertToInteractive(key) {\n",
              "        const element = document.querySelector('#df-65ed0277-3b84-45ad-ab37-7b07d25722b1');\n",
              "        const dataTable =\n",
              "          await google.colab.kernel.invokeFunction('convertToInteractive',\n",
              "                                                    [key], {});\n",
              "        if (!dataTable) return;\n",
              "\n",
              "        const docLinkHtml = 'Like what you see? Visit the ' +\n",
              "          '<a target=\"_blank\" href=https://colab.research.google.com/notebooks/data_table.ipynb>data table notebook</a>'\n",
              "          + ' to learn more about interactive tables.';\n",
              "        element.innerHTML = '';\n",
              "        dataTable['output_type'] = 'display_data';\n",
              "        await google.colab.output.renderOutput(dataTable, element);\n",
              "        const docLink = document.createElement('div');\n",
              "        docLink.innerHTML = docLinkHtml;\n",
              "        element.appendChild(docLink);\n",
              "      }\n",
              "    </script>\n",
              "  </div>\n",
              "\n",
              "\n",
              "<div id=\"df-2c014c5d-7291-4c8a-87c3-9a030072e468\">\n",
              "  <button class=\"colab-df-quickchart\" onclick=\"quickchart('df-2c014c5d-7291-4c8a-87c3-9a030072e468')\"\n",
              "            title=\"Suggest charts\"\n",
              "            style=\"display:none;\">\n",
              "\n",
              "<svg xmlns=\"http://www.w3.org/2000/svg\" height=\"24px\"viewBox=\"0 0 24 24\"\n",
              "     width=\"24px\">\n",
              "    <g>\n",
              "        <path d=\"M19 3H5c-1.1 0-2 .9-2 2v14c0 1.1.9 2 2 2h14c1.1 0 2-.9 2-2V5c0-1.1-.9-2-2-2zM9 17H7v-7h2v7zm4 0h-2V7h2v10zm4 0h-2v-4h2v4z\"/>\n",
              "    </g>\n",
              "</svg>\n",
              "  </button>\n",
              "\n",
              "<style>\n",
              "  .colab-df-quickchart {\n",
              "      --bg-color: #E8F0FE;\n",
              "      --fill-color: #1967D2;\n",
              "      --hover-bg-color: #E2EBFA;\n",
              "      --hover-fill-color: #174EA6;\n",
              "      --disabled-fill-color: #AAA;\n",
              "      --disabled-bg-color: #DDD;\n",
              "  }\n",
              "\n",
              "  [theme=dark] .colab-df-quickchart {\n",
              "      --bg-color: #3B4455;\n",
              "      --fill-color: #D2E3FC;\n",
              "      --hover-bg-color: #434B5C;\n",
              "      --hover-fill-color: #FFFFFF;\n",
              "      --disabled-bg-color: #3B4455;\n",
              "      --disabled-fill-color: #666;\n",
              "  }\n",
              "\n",
              "  .colab-df-quickchart {\n",
              "    background-color: var(--bg-color);\n",
              "    border: none;\n",
              "    border-radius: 50%;\n",
              "    cursor: pointer;\n",
              "    display: none;\n",
              "    fill: var(--fill-color);\n",
              "    height: 32px;\n",
              "    padding: 0;\n",
              "    width: 32px;\n",
              "  }\n",
              "\n",
              "  .colab-df-quickchart:hover {\n",
              "    background-color: var(--hover-bg-color);\n",
              "    box-shadow: 0 1px 2px rgba(60, 64, 67, 0.3), 0 1px 3px 1px rgba(60, 64, 67, 0.15);\n",
              "    fill: var(--button-hover-fill-color);\n",
              "  }\n",
              "\n",
              "  .colab-df-quickchart-complete:disabled,\n",
              "  .colab-df-quickchart-complete:disabled:hover {\n",
              "    background-color: var(--disabled-bg-color);\n",
              "    fill: var(--disabled-fill-color);\n",
              "    box-shadow: none;\n",
              "  }\n",
              "\n",
              "  .colab-df-spinner {\n",
              "    border: 2px solid var(--fill-color);\n",
              "    border-color: transparent;\n",
              "    border-bottom-color: var(--fill-color);\n",
              "    animation:\n",
              "      spin 1s steps(1) infinite;\n",
              "  }\n",
              "\n",
              "  @keyframes spin {\n",
              "    0% {\n",
              "      border-color: transparent;\n",
              "      border-bottom-color: var(--fill-color);\n",
              "      border-left-color: var(--fill-color);\n",
              "    }\n",
              "    20% {\n",
              "      border-color: transparent;\n",
              "      border-left-color: var(--fill-color);\n",
              "      border-top-color: var(--fill-color);\n",
              "    }\n",
              "    30% {\n",
              "      border-color: transparent;\n",
              "      border-left-color: var(--fill-color);\n",
              "      border-top-color: var(--fill-color);\n",
              "      border-right-color: var(--fill-color);\n",
              "    }\n",
              "    40% {\n",
              "      border-color: transparent;\n",
              "      border-right-color: var(--fill-color);\n",
              "      border-top-color: var(--fill-color);\n",
              "    }\n",
              "    60% {\n",
              "      border-color: transparent;\n",
              "      border-right-color: var(--fill-color);\n",
              "    }\n",
              "    80% {\n",
              "      border-color: transparent;\n",
              "      border-right-color: var(--fill-color);\n",
              "      border-bottom-color: var(--fill-color);\n",
              "    }\n",
              "    90% {\n",
              "      border-color: transparent;\n",
              "      border-bottom-color: var(--fill-color);\n",
              "    }\n",
              "  }\n",
              "</style>\n",
              "\n",
              "  <script>\n",
              "    async function quickchart(key) {\n",
              "      const quickchartButtonEl =\n",
              "        document.querySelector('#' + key + ' button');\n",
              "      quickchartButtonEl.disabled = true;  // To prevent multiple clicks.\n",
              "      quickchartButtonEl.classList.add('colab-df-spinner');\n",
              "      try {\n",
              "        const charts = await google.colab.kernel.invokeFunction(\n",
              "            'suggestCharts', [key], {});\n",
              "      } catch (error) {\n",
              "        console.error('Error during call to suggestCharts:', error);\n",
              "      }\n",
              "      quickchartButtonEl.classList.remove('colab-df-spinner');\n",
              "      quickchartButtonEl.classList.add('colab-df-quickchart-complete');\n",
              "    }\n",
              "    (() => {\n",
              "      let quickchartButtonEl =\n",
              "        document.querySelector('#df-2c014c5d-7291-4c8a-87c3-9a030072e468 button');\n",
              "      quickchartButtonEl.style.display =\n",
              "        google.colab.kernel.accessAllowed ? 'block' : 'none';\n",
              "    })();\n",
              "  </script>\n",
              "</div>\n",
              "\n",
              "    </div>\n",
              "  </div>\n"
            ],
            "application/vnd.google.colaboratory.intrinsic+json": {
              "type": "dataframe",
              "variable_name": "dataset",
              "summary": "{\n  \"name\": \"dataset\",\n  \"rows\": 891,\n  \"fields\": [\n    {\n      \"column\": \"PassengerId\",\n      \"properties\": {\n        \"dtype\": \"number\",\n        \"std\": 257,\n        \"min\": 1,\n        \"max\": 891,\n        \"num_unique_values\": 891,\n        \"samples\": [\n          710,\n          440,\n          841\n        ],\n        \"semantic_type\": \"\",\n        \"description\": \"\"\n      }\n    },\n    {\n      \"column\": \"Survived\",\n      \"properties\": {\n        \"dtype\": \"number\",\n        \"std\": 0,\n        \"min\": 0,\n        \"max\": 1,\n        \"num_unique_values\": 2,\n        \"samples\": [\n          1,\n          0\n        ],\n        \"semantic_type\": \"\",\n        \"description\": \"\"\n      }\n    },\n    {\n      \"column\": \"Pclass\",\n      \"properties\": {\n        \"dtype\": \"number\",\n        \"std\": 0,\n        \"min\": 1,\n        \"max\": 3,\n        \"num_unique_values\": 3,\n        \"samples\": [\n          3,\n          1\n        ],\n        \"semantic_type\": \"\",\n        \"description\": \"\"\n      }\n    },\n    {\n      \"column\": \"Sex\",\n      \"properties\": {\n        \"dtype\": \"category\",\n        \"num_unique_values\": 2,\n        \"samples\": [\n          \"female\",\n          \"male\"\n        ],\n        \"semantic_type\": \"\",\n        \"description\": \"\"\n      }\n    },\n    {\n      \"column\": \"Age\",\n      \"properties\": {\n        \"dtype\": \"number\",\n        \"std\": 14.526497332334042,\n        \"min\": 0.42,\n        \"max\": 80.0,\n        \"num_unique_values\": 88,\n        \"samples\": [\n          0.75,\n          22.0\n        ],\n        \"semantic_type\": \"\",\n        \"description\": \"\"\n      }\n    },\n    {\n      \"column\": \"SibSp\",\n      \"properties\": {\n        \"dtype\": \"number\",\n        \"std\": 1,\n        \"min\": 0,\n        \"max\": 8,\n        \"num_unique_values\": 7,\n        \"samples\": [\n          1,\n          0\n        ],\n        \"semantic_type\": \"\",\n        \"description\": \"\"\n      }\n    },\n    {\n      \"column\": \"Parch\",\n      \"properties\": {\n        \"dtype\": \"number\",\n        \"std\": 0,\n        \"min\": 0,\n        \"max\": 6,\n        \"num_unique_values\": 7,\n        \"samples\": [\n          0,\n          1\n        ],\n        \"semantic_type\": \"\",\n        \"description\": \"\"\n      }\n    },\n    {\n      \"column\": \"Fare\",\n      \"properties\": {\n        \"dtype\": \"number\",\n        \"std\": 49.6934285971809,\n        \"min\": 0.0,\n        \"max\": 512.3292,\n        \"num_unique_values\": 248,\n        \"samples\": [\n          11.2417,\n          51.8625\n        ],\n        \"semantic_type\": \"\",\n        \"description\": \"\"\n      }\n    },\n    {\n      \"column\": \"Embarked\",\n      \"properties\": {\n        \"dtype\": \"category\",\n        \"num_unique_values\": 3,\n        \"samples\": [\n          \"S\",\n          \"C\"\n        ],\n        \"semantic_type\": \"\",\n        \"description\": \"\"\n      }\n    }\n  ]\n}"
            }
          },
          "metadata": {},
          "execution_count": 5
        }
      ]
    },
    {
      "cell_type": "code",
      "source": [
        "x=dataset.iloc[:,2:9].values\n",
        "y=dataset.iloc[:,1].values"
      ],
      "metadata": {
        "id": "P5HEyx86LcGr"
      },
      "execution_count": null,
      "outputs": []
    },
    {
      "cell_type": "code",
      "source": [
        "print(x)"
      ],
      "metadata": {
        "colab": {
          "base_uri": "https://localhost:8080/"
        },
        "id": "nQKAFTGvx3t_",
        "outputId": "b5f1298b-8f2d-4a82-dc62-b65e0445146d"
      },
      "execution_count": null,
      "outputs": [
        {
          "output_type": "stream",
          "name": "stdout",
          "text": [
            "[[3 'male' 22.0 ... 0 7.25 'S']\n",
            " [1 'female' 38.0 ... 0 71.2833 'C']\n",
            " [3 'female' 26.0 ... 0 7.925 'S']\n",
            " ...\n",
            " [3 'female' nan ... 2 23.45 'S']\n",
            " [1 'male' 26.0 ... 0 30.0 'C']\n",
            " [3 'male' 32.0 ... 0 7.75 'Q']]\n"
          ]
        }
      ]
    },
    {
      "cell_type": "markdown",
      "source": [
        "FILLING MISING VALUES"
      ],
      "metadata": {
        "id": "jUQATSMv3Cv3"
      }
    },
    {
      "cell_type": "code",
      "source": [
        "from sklearn.impute import SimpleImputer\n",
        "imputer=SimpleImputer(missing_values=np.nan, strategy=\"mean\")\n",
        "imputer.fit(x[ : ,2].reshape(891,1))\n",
        "x[ : ,2]=imputer.transform(x[ : ,2].reshape(891,1)).reshape(1,891)"
      ],
      "metadata": {
        "id": "hZszIJTX0VfP"
      },
      "execution_count": null,
      "outputs": []
    },
    {
      "cell_type": "code",
      "source": [
        "from sklearn.impute import SimpleImputer\n",
        "imputer1=SimpleImputer(missing_values=np.nan, strategy=\"most_frequent\")\n",
        "imputer1.fit(x[ : ,6].reshape(891,1))\n",
        "x[ : ,6]=imputer1.transform(x[ : ,6].reshape(891,1)).reshape(1,891)"
      ],
      "metadata": {
        "id": "5XVVlqpQ2qz3"
      },
      "execution_count": null,
      "outputs": []
    },
    {
      "cell_type": "markdown",
      "source": [
        "ENCODING CATEGORICAL DATA"
      ],
      "metadata": {
        "id": "kr_yE3ys3Kep"
      }
    },
    {
      "cell_type": "code",
      "source": [
        "from sklearn.compose import ColumnTransformer\n",
        "from sklearn.preprocessing import OneHotEncoder\n",
        "ct=ColumnTransformer(transformers=[('encoder',OneHotEncoder(),[6])],remainder='passthrough')\n",
        "x=ct.fit_transform(x)"
      ],
      "metadata": {
        "id": "3LB09GsX06V2"
      },
      "execution_count": null,
      "outputs": []
    },
    {
      "cell_type": "code",
      "source": [
        "from sklearn.preprocessing import LabelEncoder\n",
        "le=LabelEncoder()\n",
        "x[:,4]=le.fit_transform(x[:,4])"
      ],
      "metadata": {
        "id": "nnuQa8cHxjDs"
      },
      "execution_count": null,
      "outputs": []
    },
    {
      "cell_type": "code",
      "source": [
        "print(x[1,:])"
      ],
      "metadata": {
        "colab": {
          "base_uri": "https://localhost:8080/"
        },
        "id": "Jif1pjLpylaG",
        "outputId": "492eee8e-09c0-49ed-ae6c-322dfefbf610"
      },
      "execution_count": null,
      "outputs": [
        {
          "output_type": "stream",
          "name": "stdout",
          "text": [
            "[1.0 0.0 0.0 1 0 38.0 1 0 71.2833]\n"
          ]
        }
      ]
    },
    {
      "cell_type": "markdown",
      "source": [
        "SPLITTING DATASET"
      ],
      "metadata": {
        "id": "Dy8SAQby4P9f"
      }
    },
    {
      "cell_type": "code",
      "source": [
        "from sklearn.model_selection import train_test_split\n",
        "x_train,x_test,y_train,y_test= train_test_split(x,y,test_size=0.2,random_state=0)"
      ],
      "metadata": {
        "id": "VC2v6dE2EHFr"
      },
      "execution_count": null,
      "outputs": []
    },
    {
      "cell_type": "code",
      "source": [
        "print(x_train)"
      ],
      "metadata": {
        "colab": {
          "base_uri": "https://localhost:8080/"
        },
        "id": "xq1xlMoiAnHH",
        "outputId": "3bacdbf1-db4c-4702-c388-8c83924c7fa1"
      },
      "execution_count": null,
      "outputs": [
        {
          "output_type": "stream",
          "name": "stdout",
          "text": [
            "[[1.0 0.0 0.0 ... 0 2 15.2458]\n",
            " [0.0 0.0 1.0 ... 0 0 10.5]\n",
            " [1.0 0.0 0.0 ... 1 1 37.0042]\n",
            " ...\n",
            " [0.0 1.0 0.0 ... 0 0 7.7333]\n",
            " [0.0 0.0 1.0 ... 1 0 17.4]\n",
            " [0.0 0.0 1.0 ... 1 1 39.0]]\n"
          ]
        }
      ]
    },
    {
      "cell_type": "markdown",
      "source": [
        "FEATURE SCALING"
      ],
      "metadata": {
        "id": "wC273Fm24LX9"
      }
    },
    {
      "cell_type": "code",
      "source": [
        "from sklearn.preprocessing import StandardScaler\n",
        "sc=StandardScaler()\n",
        "x_train=sc.fit_transform(x_train)\n",
        "x_test=sc.transform(x_test)"
      ],
      "metadata": {
        "id": "woHXAGR2DuLB"
      },
      "execution_count": null,
      "outputs": []
    },
    {
      "cell_type": "markdown",
      "source": [
        "BUILDING ANN MODEL"
      ],
      "metadata": {
        "id": "jpn778wYEcP1"
      }
    },
    {
      "cell_type": "code",
      "source": [
        "ann=tf.keras.models.Sequential()"
      ],
      "metadata": {
        "id": "ZlfEbB4uEg7t"
      },
      "execution_count": null,
      "outputs": []
    },
    {
      "cell_type": "code",
      "source": [
        "ann.add(tf.keras.layers.Dense(units=60, activation='relu'))"
      ],
      "metadata": {
        "id": "NRXaQ-01E2XE"
      },
      "execution_count": null,
      "outputs": []
    },
    {
      "cell_type": "code",
      "source": [
        "ann.add(tf.keras.layers.Dense(units=20, activation='relu'))"
      ],
      "metadata": {
        "id": "9zIuGqutFRxd"
      },
      "execution_count": null,
      "outputs": []
    },
    {
      "cell_type": "code",
      "source": [
        "ann.add(tf.keras.layers.Dense(units=1, activation='sigmoid'))"
      ],
      "metadata": {
        "id": "rz5Ob0teFS-b"
      },
      "execution_count": null,
      "outputs": []
    },
    {
      "cell_type": "markdown",
      "source": [
        "COMPILING AND TRAINING ANN MODEL"
      ],
      "metadata": {
        "id": "xfdXYEAGFcGJ"
      }
    },
    {
      "cell_type": "code",
      "source": [
        "ann.compile(optimizer = 'adam', loss = 'binary_crossentropy', metrics = ['accuracy'])"
      ],
      "metadata": {
        "id": "xrCxyd_vFhI1"
      },
      "execution_count": null,
      "outputs": []
    },
    {
      "cell_type": "code",
      "source": [
        "ann.fit(x_train,y_train,batch_size=5, epochs=25)"
      ],
      "metadata": {
        "colab": {
          "base_uri": "https://localhost:8080/"
        },
        "id": "wHGCaMVKGH7_",
        "outputId": "5656fd0b-ae40-43ce-a4ef-6186a06c6b73"
      },
      "execution_count": null,
      "outputs": [
        {
          "output_type": "stream",
          "name": "stdout",
          "text": [
            "Epoch 1/25\n",
            "143/143 [==============================] - 3s 8ms/step - loss: 0.5888 - accuracy: 0.6938\n",
            "Epoch 2/25\n",
            "143/143 [==============================] - 1s 5ms/step - loss: 0.4587 - accuracy: 0.8146\n",
            "Epoch 3/25\n",
            "143/143 [==============================] - 1s 4ms/step - loss: 0.4328 - accuracy: 0.8118\n",
            "Epoch 4/25\n",
            "143/143 [==============================] - 1s 5ms/step - loss: 0.4211 - accuracy: 0.8272\n",
            "Epoch 5/25\n",
            "143/143 [==============================] - 1s 4ms/step - loss: 0.4108 - accuracy: 0.8315\n",
            "Epoch 6/25\n",
            "143/143 [==============================] - 1s 6ms/step - loss: 0.4062 - accuracy: 0.8399\n",
            "Epoch 7/25\n",
            "143/143 [==============================] - 1s 4ms/step - loss: 0.4041 - accuracy: 0.8413\n",
            "Epoch 8/25\n",
            "143/143 [==============================] - 1s 5ms/step - loss: 0.4007 - accuracy: 0.8441\n",
            "Epoch 9/25\n",
            "143/143 [==============================] - 1s 4ms/step - loss: 0.3967 - accuracy: 0.8441\n",
            "Epoch 10/25\n",
            "143/143 [==============================] - 1s 5ms/step - loss: 0.3916 - accuracy: 0.8469\n",
            "Epoch 11/25\n",
            "143/143 [==============================] - 1s 6ms/step - loss: 0.3896 - accuracy: 0.8441\n",
            "Epoch 12/25\n",
            "143/143 [==============================] - 1s 4ms/step - loss: 0.3871 - accuracy: 0.8553\n",
            "Epoch 13/25\n",
            "143/143 [==============================] - 1s 5ms/step - loss: 0.3892 - accuracy: 0.8441\n",
            "Epoch 14/25\n",
            "143/143 [==============================] - 1s 6ms/step - loss: 0.3822 - accuracy: 0.8427\n",
            "Epoch 15/25\n",
            "143/143 [==============================] - 1s 6ms/step - loss: 0.3806 - accuracy: 0.8413\n",
            "Epoch 16/25\n",
            "143/143 [==============================] - 2s 11ms/step - loss: 0.3821 - accuracy: 0.8483\n",
            "Epoch 17/25\n",
            "143/143 [==============================] - 2s 12ms/step - loss: 0.3762 - accuracy: 0.8553\n",
            "Epoch 18/25\n",
            "143/143 [==============================] - 1s 10ms/step - loss: 0.3781 - accuracy: 0.8525\n",
            "Epoch 19/25\n",
            "143/143 [==============================] - 1s 8ms/step - loss: 0.3784 - accuracy: 0.8455\n",
            "Epoch 20/25\n",
            "143/143 [==============================] - 1s 6ms/step - loss: 0.3737 - accuracy: 0.8483\n",
            "Epoch 21/25\n",
            "143/143 [==============================] - 1s 5ms/step - loss: 0.3732 - accuracy: 0.8483\n",
            "Epoch 22/25\n",
            "143/143 [==============================] - 1s 7ms/step - loss: 0.3726 - accuracy: 0.8497\n",
            "Epoch 23/25\n",
            "143/143 [==============================] - 1s 7ms/step - loss: 0.3686 - accuracy: 0.8539\n",
            "Epoch 24/25\n",
            "143/143 [==============================] - 1s 6ms/step - loss: 0.3684 - accuracy: 0.8553\n",
            "Epoch 25/25\n",
            "143/143 [==============================] - 1s 7ms/step - loss: 0.3663 - accuracy: 0.8483\n"
          ]
        },
        {
          "output_type": "execute_result",
          "data": {
            "text/plain": [
              "<keras.src.callbacks.History at 0x7f23284bb8e0>"
            ]
          },
          "metadata": {},
          "execution_count": 21
        }
      ]
    },
    {
      "cell_type": "markdown",
      "source": [
        "PREDICTING TEST SET RESULTS"
      ],
      "metadata": {
        "id": "PASKsqRqGStz"
      }
    },
    {
      "cell_type": "code",
      "source": [
        "y_pred=ann.predict(x_test)\n",
        "print(y_pred)\n",
        "y_pred=(y_pred>0.5)\n",
        "print(np.concatenate((y_pred.reshape(len(y_pred),1),y_test.reshape(len(y_test),1)),1))"
      ],
      "metadata": {
        "colab": {
          "base_uri": "https://localhost:8080/"
        },
        "id": "4GrNDGqDGYYz",
        "outputId": "6c7d9156-bb26-4c4f-98ec-045e4ab67460"
      },
      "execution_count": null,
      "outputs": [
        {
          "output_type": "stream",
          "name": "stdout",
          "text": [
            "6/6 [==============================] - 0s 4ms/step\n",
            "[[0.16011207]\n",
            " [0.10192542]\n",
            " [0.01104945]\n",
            " [0.9831166 ]\n",
            " [0.5510062 ]\n",
            " [0.22725368]\n",
            " [0.9511091 ]\n",
            " [0.5603757 ]\n",
            " [0.39477614]\n",
            " [0.2895464 ]\n",
            " [0.051776  ]\n",
            " [0.82544523]\n",
            " [0.05596631]\n",
            " [0.9679624 ]\n",
            " [0.9738724 ]\n",
            " [0.57089865]\n",
            " [0.10414302]\n",
            " [0.5448721 ]\n",
            " [0.0983926 ]\n",
            " [0.81576705]\n",
            " [0.11362471]\n",
            " [0.8856068 ]\n",
            " [0.05596619]\n",
            " [0.22627127]\n",
            " [0.45626184]\n",
            " [0.96811163]\n",
            " [0.10253017]\n",
            " [0.44377103]\n",
            " [0.9123462 ]\n",
            " [0.42054963]\n",
            " [0.12868048]\n",
            " [0.6476489 ]\n",
            " [0.10497698]\n",
            " [0.2155278 ]\n",
            " [0.04636578]\n",
            " [0.278028  ]\n",
            " [0.07404136]\n",
            " [0.09114988]\n",
            " [0.09187321]\n",
            " [0.04907476]\n",
            " [0.1683305 ]\n",
            " [0.20046327]\n",
            " [0.11237688]\n",
            " [0.01095489]\n",
            " [0.98768234]\n",
            " [0.10248152]\n",
            " [0.10248152]\n",
            " [0.9200279 ]\n",
            " [0.08043922]\n",
            " [0.16512294]\n",
            " [0.22823906]\n",
            " [0.43387702]\n",
            " [0.9413242 ]\n",
            " [0.10197217]\n",
            " [0.28393388]\n",
            " [0.06527579]\n",
            " [0.09353042]\n",
            " [0.17462748]\n",
            " [0.16123798]\n",
            " [0.02318696]\n",
            " [0.24003382]\n",
            " [0.5743305 ]\n",
            " [0.96545607]\n",
            " [0.27182174]\n",
            " [0.58746815]\n",
            " [0.04829175]\n",
            " [0.98770744]\n",
            " [0.273808  ]\n",
            " [0.9418745 ]\n",
            " [0.97589624]\n",
            " [0.8251076 ]\n",
            " [0.22810273]\n",
            " [0.39961848]\n",
            " [0.10273036]\n",
            " [0.10241564]\n",
            " [0.39058357]\n",
            " [0.17233016]\n",
            " [0.29514983]\n",
            " [0.09816851]\n",
            " [0.16928461]\n",
            " [0.04103705]\n",
            " [0.5631155 ]\n",
            " [0.93249315]\n",
            " [0.10727259]\n",
            " [0.06896513]\n",
            " [0.95764905]\n",
            " [0.9498193 ]\n",
            " [0.11800637]\n",
            " [0.85368323]\n",
            " [0.38963562]\n",
            " [0.19224888]\n",
            " [0.10197217]\n",
            " [0.91386527]\n",
            " [0.93497354]\n",
            " [0.30458716]\n",
            " [0.1490483 ]\n",
            " [0.95422566]\n",
            " [0.00887753]\n",
            " [0.10009684]\n",
            " [0.21554779]\n",
            " [0.01128692]\n",
            " [0.04125282]\n",
            " [0.10160937]\n",
            " [0.2031615 ]\n",
            " [0.22317432]\n",
            " [0.21361612]\n",
            " [0.8809533 ]\n",
            " [0.18394022]\n",
            " [0.08811674]\n",
            " [0.8362722 ]\n",
            " [0.05880034]\n",
            " [0.9590916 ]\n",
            " [0.23014724]\n",
            " [0.31909746]\n",
            " [0.14746232]\n",
            " [0.8817453 ]\n",
            " [0.26369324]\n",
            " [0.9650677 ]\n",
            " [0.0844504 ]\n",
            " [0.8774614 ]\n",
            " [0.24535003]\n",
            " [0.05597245]\n",
            " [0.10238255]\n",
            " [0.15379277]\n",
            " [0.1034665 ]\n",
            " [0.19938649]\n",
            " [0.14904206]\n",
            " [0.05463162]\n",
            " [0.08291246]\n",
            " [0.05429608]\n",
            " [0.8998243 ]\n",
            " [0.10178123]\n",
            " [0.10083461]\n",
            " [0.25993878]\n",
            " [0.08682199]\n",
            " [0.10178123]\n",
            " [0.03788593]\n",
            " [0.18844122]\n",
            " [0.05518793]\n",
            " [0.09259964]\n",
            " [0.09325356]\n",
            " [0.95991606]\n",
            " [0.10273036]\n",
            " [0.9218269 ]\n",
            " [0.9089276 ]\n",
            " [0.41114187]\n",
            " [0.09356083]\n",
            " [0.6750797 ]\n",
            " [0.8880141 ]\n",
            " [0.10372408]\n",
            " [0.2606767 ]\n",
            " [0.34157965]\n",
            " [0.2803803 ]\n",
            " [0.10221528]\n",
            " [0.81114024]\n",
            " [0.09020708]\n",
            " [0.19530961]\n",
            " [0.0375554 ]\n",
            " [0.7956295 ]\n",
            " [0.94128513]\n",
            " [0.10248152]\n",
            " [0.26541543]\n",
            " [0.95630926]\n",
            " [0.04864914]\n",
            " [0.6581374 ]\n",
            " [0.10179651]\n",
            " [0.04747478]\n",
            " [0.10159441]\n",
            " [0.10213976]\n",
            " [0.10602909]\n",
            " [0.0478438 ]\n",
            " [0.9786252 ]\n",
            " [0.10144509]\n",
            " [0.11237688]\n",
            " [0.48916638]\n",
            " [0.10273036]\n",
            " [0.9852933 ]\n",
            " [0.10191088]\n",
            " [0.10220033]]\n",
            "[[0 0]\n",
            " [0 0]\n",
            " [0 0]\n",
            " [1 1]\n",
            " [1 1]\n",
            " [0 1]\n",
            " [1 1]\n",
            " [1 1]\n",
            " [0 1]\n",
            " [0 1]\n",
            " [0 0]\n",
            " [1 1]\n",
            " [0 0]\n",
            " [1 1]\n",
            " [1 1]\n",
            " [1 0]\n",
            " [0 0]\n",
            " [1 0]\n",
            " [0 0]\n",
            " [1 1]\n",
            " [0 0]\n",
            " [1 1]\n",
            " [0 0]\n",
            " [0 0]\n",
            " [0 0]\n",
            " [1 1]\n",
            " [0 0]\n",
            " [0 1]\n",
            " [1 1]\n",
            " [0 0]\n",
            " [0 0]\n",
            " [1 1]\n",
            " [0 0]\n",
            " [0 1]\n",
            " [0 0]\n",
            " [0 1]\n",
            " [0 0]\n",
            " [0 0]\n",
            " [0 0]\n",
            " [0 0]\n",
            " [0 1]\n",
            " [0 0]\n",
            " [0 0]\n",
            " [0 0]\n",
            " [1 1]\n",
            " [0 0]\n",
            " [0 0]\n",
            " [1 1]\n",
            " [0 0]\n",
            " [0 0]\n",
            " [0 1]\n",
            " [0 1]\n",
            " [1 1]\n",
            " [0 0]\n",
            " [0 1]\n",
            " [0 0]\n",
            " [0 0]\n",
            " [0 0]\n",
            " [0 0]\n",
            " [0 1]\n",
            " [0 0]\n",
            " [1 0]\n",
            " [1 1]\n",
            " [0 0]\n",
            " [1 1]\n",
            " [0 0]\n",
            " [1 1]\n",
            " [0 0]\n",
            " [1 1]\n",
            " [1 1]\n",
            " [1 1]\n",
            " [0 1]\n",
            " [0 0]\n",
            " [0 0]\n",
            " [0 0]\n",
            " [0 1]\n",
            " [0 0]\n",
            " [0 0]\n",
            " [0 0]\n",
            " [0 0]\n",
            " [0 0]\n",
            " [1 1]\n",
            " [1 0]\n",
            " [0 0]\n",
            " [0 0]\n",
            " [1 1]\n",
            " [1 1]\n",
            " [0 1]\n",
            " [1 1]\n",
            " [0 0]\n",
            " [0 0]\n",
            " [0 0]\n",
            " [1 1]\n",
            " [1 1]\n",
            " [0 0]\n",
            " [0 0]\n",
            " [1 1]\n",
            " [0 0]\n",
            " [0 0]\n",
            " [0 1]\n",
            " [0 0]\n",
            " [0 0]\n",
            " [0 0]\n",
            " [0 0]\n",
            " [0 0]\n",
            " [0 1]\n",
            " [1 1]\n",
            " [0 0]\n",
            " [0 0]\n",
            " [1 1]\n",
            " [0 0]\n",
            " [1 1]\n",
            " [0 1]\n",
            " [0 0]\n",
            " [0 1]\n",
            " [1 1]\n",
            " [0 1]\n",
            " [1 1]\n",
            " [0 0]\n",
            " [1 1]\n",
            " [0 1]\n",
            " [0 0]\n",
            " [0 0]\n",
            " [0 0]\n",
            " [0 0]\n",
            " [0 0]\n",
            " [0 0]\n",
            " [0 1]\n",
            " [0 0]\n",
            " [0 0]\n",
            " [1 0]\n",
            " [0 0]\n",
            " [0 0]\n",
            " [0 0]\n",
            " [0 0]\n",
            " [0 0]\n",
            " [0 0]\n",
            " [0 0]\n",
            " [0 0]\n",
            " [0 0]\n",
            " [0 0]\n",
            " [1 1]\n",
            " [0 0]\n",
            " [1 0]\n",
            " [1 1]\n",
            " [0 0]\n",
            " [0 0]\n",
            " [1 1]\n",
            " [1 1]\n",
            " [0 0]\n",
            " [0 0]\n",
            " [0 1]\n",
            " [0 0]\n",
            " [0 0]\n",
            " [1 1]\n",
            " [0 0]\n",
            " [0 0]\n",
            " [0 1]\n",
            " [1 0]\n",
            " [1 1]\n",
            " [0 0]\n",
            " [0 1]\n",
            " [1 1]\n",
            " [0 1]\n",
            " [1 0]\n",
            " [0 0]\n",
            " [0 0]\n",
            " [0 0]\n",
            " [0 0]\n",
            " [0 0]\n",
            " [0 0]\n",
            " [1 1]\n",
            " [0 0]\n",
            " [0 0]\n",
            " [0 1]\n",
            " [0 0]\n",
            " [1 1]\n",
            " [0 0]\n",
            " [0 0]]\n"
          ]
        }
      ]
    },
    {
      "cell_type": "code",
      "source": [
        "from sklearn.metrics import accuracy_score, confusion_matrix\n",
        "cm=confusion_matrix(y_test,y_pred)\n",
        "print(cm)\n",
        "print(accuracy_score(y_test,y_pred))"
      ],
      "metadata": {
        "colab": {
          "base_uri": "https://localhost:8080/"
        },
        "id": "aLxfUi2mG6SG",
        "outputId": "85a99e07-fd25-4eef-a3d7-c94f65c3e97e"
      },
      "execution_count": null,
      "outputs": [
        {
          "output_type": "stream",
          "name": "stdout",
          "text": [
            "[[102   8]\n",
            " [ 26  43]]\n",
            "0.8100558659217877\n"
          ]
        }
      ]
    }
  ]
}